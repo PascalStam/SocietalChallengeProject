{
 "cells": [
  {
   "cell_type": "markdown",
   "id": "c66b4fb9",
   "metadata": {},
   "source": [
    "# Where to place the Next Refugee Shelter?\n",
    "\n",
    "### _A geographical dashboard of the surrounding on neighbourhoud-level_\n",
    "\n",
    "\n",
    "\n",
    "Welcome to the code of the product for the course Societal Challenge Product of Masterprogram Engineering And Policy Analysis at the Technical University of Delft. The product is a demo that designed by students. \n",
    "\n",
    "The product is a tool that helps with the decision-making process of multiple stakeholders (RVB (Problem-Owner), COA and Municipalities) in the placement of refugee shelters placement the Netherlands. The placement of the shelter is a public-polically sensitive task, as the norms and values do not necessarily allign. The CBS data-base is the basis of the dashboard, where objective properties of the neighbourhouds have been selected. This selection and choice of factors give a overview of the suitability of a neighbourhoud on accessibity of infrastructure, healthcare and commerce. Moreover does it say something about the properties and safety and social cohesion of the neighbourhoud. \n",
    "\n",
    "We believe that this tool can help in facilitating a constructive and open conversation on the placement of a refugee shelter with bringing little to no bias into the discussion."
   ]
  },
  {
   "cell_type": "markdown",
   "id": "f8bdd378",
   "metadata": {},
   "source": [
    "#### The libaries\n",
    "\n",
    "We have used multiple libraries to programm our product. The following libraries were used:\n",
    "\n",
    "| Libary | Used for|\n",
    "|--------|---------|\n",
    "| pysal | For spatial analysis. Helps analyze patterns in geographic data |\n",
    "|seaborn | For creating advanced and visually appealing graphs.\n",
    "|contextily | For adding basemaps to spatial data visualizations. Could for example place your neighborhood data on a map that shows roads, rivers, or city layouts|\n",
    "|splot | To create visualizations of spatial data. Combins analysis and visualization|\n",
    "|pandas | For handling and analyzing data. It organizes your data in a clean way which makes it easy to manipulate and analyze|\n",
    "|folium | For creating interactive maps|\n",
    "|matplotlib | For creating graphs and plots|\n",
    "|mapclassify | For classifying data into categories or ranges|"
   ]
  },
  {
   "cell_type": "code",
   "execution_count": null,
   "id": "0a90f541-eba8-4582-aae5-d054606db470",
   "metadata": {
    "tags": []
   },
   "outputs": [],
   "source": [
    "#libraries\n",
    "# !pip install pysal\n",
    "# !pip install seaborn\n",
    "# !pip install contextily\n",
    "# !pip install splot\n",
    "# !pip install pandas\n",
    "# !pip install folium matplotlib mapclassify\n",
    "# !pip install pandoc\n",
    "\n",
    "import matplotlib.pyplot as plt\n",
    "import numpy as np\n",
    "import geopandas as gpd\n",
    "import pandas as pd\n",
    "from pysal.lib import weights\n",
    "from pysal.explore import esda\n",
    "from splot.esda import moran_scatterplot,  plot_local_autocorrelation\n",
    "import seaborn as sns\n",
    "import contextily as cx\n",
    "import matplotlib.colors as mcolors"
   ]
  },
  {
   "cell_type": "markdown",
   "id": "9e6e4ed8-ffeb-4671-8c10-6e7c0ece677a",
   "metadata": {},
   "source": [
    "#### Datasets\n",
    "\n",
    "(We could not find the right tables in the pakkage, but might be availble in the future. In that case the following code might become usefull):\n",
    "\n",
    "_\"pip install cbsodata\n",
    "import cbsodata\n",
    "cbsodata.options.catalog_url ='dataderden.cbs.nl'\n",
    "tables =cbsodata.get_table_list()\n",
    "data = pd.DataFrame(tables)\n",
    "data[data[\"Title\"].str.contains(\"Wijken\")]\")_\n",
    "\n",
    "\n",
    "\n",
    "The following datasets have been used from the CBS. \n",
    "\n",
    "| Dataset (Name) | URL|\n",
    "|--------|---------|\n",
    "| Kerncijfers_wijken_en_buurten_2023_14122024_150331.csv | https://www.cbs.nl/nl-nl/maatwerk/2024/11/kerncijfers-wijken-en-buurten-2023|\n",
    "|Leefbaarometer-scores wijken 2002-2022.csv | https://www.leefbaarometer.nl/page/Opendata#scores |\n",
    "|wijkenbuurten_2022_v3.gpkg | https://www.pdok.nl/ogc-webservices/-/article/cbs-gebiedsindelingen#8787c7edcc0df04094d894518eedea62|\n"
   ]
  },
  {
   "cell_type": "markdown",
   "id": "28964391",
   "metadata": {
    "tags": []
   },
   "source": [
    "\n",
    "We load the CBS neighborhood data of 2023. The reason for this is that the dataset of 2024 has too many missing values.\n"
   ]
  },
  {
   "cell_type": "code",
   "execution_count": null,
   "id": "852a8bed-a8fb-4694-9c72-ea2ce48482a5",
   "metadata": {
    "tags": []
   },
   "outputs": [],
   "source": [
    "df = pd.read_csv(\"Kerncijfers_wijken_en_buurten_2023_14122024_150331.csv\", delimiter= \";\")\n",
    "df.head(15)"
   ]
  },
  {
   "cell_type": "markdown",
   "id": "6c68e239",
   "metadata": {},
   "source": [
    "We strip the values of the columns down below so it removes any leading (spaces at the beginning) and trailling (spaces at the end) whitespace characters from the strings."
   ]
  },
  {
   "cell_type": "code",
   "execution_count": null,
   "id": "c2fe36f5-773c-47bb-89b4-9c54112bd144",
   "metadata": {
    "tags": []
   },
   "outputs": [],
   "source": [
    "df[\"Wijken en buurten\"] = df[\"Wijken en buurten\"].str.strip()\n",
    "df[\"Regioaanduiding/Gemeentenaam (naam)\"] = df[\"Regioaanduiding/Gemeentenaam (naam)\"].str.strip()\n",
    "df[\"Regioaanduiding/Soort regio (omschrijving)\"] = df[\"Regioaanduiding/Soort regio (omschrijving)\"].str.strip()\n",
    "df[\"Regioaanduiding/Codering (code)\"] = df[\"Regioaanduiding/Codering (code)\"].str.strip()"
   ]
  },
  {
   "cell_type": "markdown",
   "id": "3249d480-f4e3-40c0-a183-d8a2057b39a9",
   "metadata": {},
   "source": [
    "Everything that has 'Wijk' in the column of 'Regioaanduiding/Soort regio (omschrijving) is retrieved. This filters values of the column that are unfindable. "
   ]
  },
  {
   "cell_type": "code",
   "execution_count": null,
   "id": "75fbd7b8-4384-410f-a695-1f7114d233a9",
   "metadata": {
    "tags": []
   },
   "outputs": [],
   "source": [
    "df_wijk = df[df[\"Regioaanduiding/Soort regio (omschrijving)\"] == \"Wijk\"]"
   ]
  },
  {
   "cell_type": "code",
   "execution_count": null,
   "id": "60df87c2-5ac0-431d-aa67-f530953899cc",
   "metadata": {
    "tags": []
   },
   "outputs": [],
   "source": [
    "df_wijk.info()"
   ]
  },
  {
   "cell_type": "markdown",
   "id": "a9b0cc91",
   "metadata": {},
   "source": [
    "We want the scale to be neighborhood scale so this is the column 'Regioaanduiding/Codering (code)' that gives everything seperate neighborhood a specific code number"
   ]
  },
  {
   "cell_type": "code",
   "execution_count": null,
   "id": "969a7caa-a2e3-4cc6-9b88-37801d293907",
   "metadata": {
    "tags": []
   },
   "outputs": [],
   "source": [
    "df_wijk[\"Regioaanduiding/Codering (code)\"].unique"
   ]
  },
  {
   "cell_type": "markdown",
   "id": "4c997856-d47c-4b86-9e4c-e35892c9a353",
   "metadata": {},
   "source": [
    "We are aggregating only on the neighbourhoud-level."
   ]
  },
  {
   "cell_type": "code",
   "execution_count": null,
   "id": "6b326b1a",
   "metadata": {
    "tags": []
   },
   "outputs": [],
   "source": [
    "df_wijk.head()"
   ]
  },
  {
   "cell_type": "markdown",
   "id": "10532106",
   "metadata": {},
   "source": [
    "From our client the RVB, we received a list of locations we can use for use cases to look at examples for our product. This list is the following:\n"
   ]
  },
  {
   "cell_type": "markdown",
   "id": "b062430d",
   "metadata": {},
   "source": [
    "Regulusweg, Den Haag\n",
    "Luttenbergerweg, Amsterdam\n",
    "Neuhuyskade, Den Haag\n",
    "Brinkstraat, Assen\n",
    "Strijbeekseweg, Srijbeek\n",
    "Huiserf, Breda\n",
    "Rijksweg, Rijen\n",
    "De Omloop, Zefvenbergschen Hoek\n",
    "Zwarteweg, Den Haag\n",
    "Waalresweg, Valkenswaard\n",
    "Slinge, Rotterdam\n",
    "Taborstraat, Rotterdam\n",
    "Rokkeveenseweg, Zoetermeer\n",
    "PI overmaze, Maastricht\n",
    "Caissonweg, Almere\n",
    "PI overmaze, Overloon/ Land van Cuijk\n",
    "\n",
    "We received the addresses from the RVB. With the zip code we identified the neighborhood names and the ones in the dataset. These neighborhood names are shown down below with the corresponding code number and municipality"
   ]
  },
  {
   "cell_type": "code",
   "execution_count": null,
   "id": "f3106bcc-8210-465e-89ed-52776af340ae",
   "metadata": {
    "tags": []
   },
   "outputs": [],
   "source": [
    "# Define the list of Wijken names in the desired sequence\n",
    "wijken_list = [\n",
    "    \"Wijk 39 Binckhorst\",\n",
    "    \"Amstel III/Bullewijk\",\n",
    "    \"Wijk 04 Benoordenhout\",\n",
    "    \"Assen-Oost\",\n",
    "    \"Galder\",\n",
    "    \"Breda noord-west\",\n",
    "    \"Rijen\",\n",
    "    \"Wijk 01 Zevenbergschen Hoek\",\n",
    "    \"Wijk 11 Duinoord\",\n",
    "    \"Wijk 00 Valkenswaard\",\n",
    "    \"Charlois\",\n",
    "    \"Kralingen-Crooswijk\",\n",
    "    \"Industriegebied\",\n",
    "    \"Wijk 04 Buitenwijk Oost\",\n",
    "    \"Centrum Almere Buiten\",\n",
    "    \"Cuijk\"\n",
    "]\n",
    "\n",
    "# Filter the DataFrame to include only rows with the Wijken in the list\n",
    "filtered_df = df_wijk[df_wijk[\"Wijken en buurten\"].isin(wijken_list)]\n",
    "\n",
    "# Ensure the order of rows matches the order of the Wijken in the list\n",
    "filtered_df = filtered_df.set_index(\"Wijken en buurten\").loc[wijken_list]\n",
    "\n",
    "# Reset index to make it cleaner\n",
    "result = filtered_df.reset_index()\n",
    "\n",
    "# Select relevant columns\n",
    "result = result[[\"Wijken en buurten\", \"Regioaanduiding/Codering (code)\", \"Regioaanduiding/Gemeentenaam (naam)\"]]\n",
    "\n",
    "\n",
    "print(result)\n"
   ]
  },
  {
   "cell_type": "markdown",
   "id": "381711d8",
   "metadata": {},
   "source": [
    "Now we load the dataset of the 'leefbarometer'. Note that this set is from 2022 and is a limitation of our analysis. The reason for this is that the 'leefbarometer' is only measured once every two years. "
   ]
  },
  {
   "cell_type": "code",
   "execution_count": null,
   "id": "4239e28c-c877-4630-b84b-4b89a5f5c503",
   "metadata": {
    "tags": []
   },
   "outputs": [],
   "source": [
    "df_baro = pd.read_csv(\"Leefbaarometer-scores wijken 2002-2022.csv\")"
   ]
  },
  {
   "cell_type": "code",
   "execution_count": null,
   "id": "59d38801-2e57-4570-beea-653161ff3f1d",
   "metadata": {
    "tags": []
   },
   "outputs": [],
   "source": [
    "df_baro_2022 = df_baro[df_baro[\"jaar\"] == 2022]\n",
    "df_baro.head(15)"
   ]
  },
  {
   "cell_type": "markdown",
   "id": "e2e3ef86",
   "metadata": {},
   "source": [
    "We now merge the two datasets based on their neighborhood.\n"
   ]
  },
  {
   "cell_type": "code",
   "execution_count": null,
   "id": "1ca49619-6d85-4771-9c1d-ed5da390ec6c",
   "metadata": {
    "tags": []
   },
   "outputs": [],
   "source": [
    "df_combined = df_wijk.merge(df_baro_2022, left_on=\"Regioaanduiding/Codering (code)\", right_on=\"wk_code\", how = \"left\")"
   ]
  },
  {
   "cell_type": "markdown",
   "id": "909f85c3-46c4-471b-bc01-c0297482e6d5",
   "metadata": {},
   "source": [
    "Now we add a SHP file to give the values and neighborhood code also a spatial value"
   ]
  },
  {
   "cell_type": "code",
   "execution_count": null,
   "id": "9f41bea4-a4d9-4eb9-a050-024d612b7426",
   "metadata": {
    "tags": []
   },
   "outputs": [],
   "source": [
    "#CSV and add SHP file (geographical data)\n",
    "gdf= gpd.read_file(\"wijkenbuurten_2022_v3.gpkg\")\n",
    "gdf.head(5)"
   ]
  },
  {
   "cell_type": "markdown",
   "id": "4eafb931",
   "metadata": {},
   "source": [
    "We filter the dataset so only values that include 'WK' in the string of 'wijkcode' are included in the dataset"
   ]
  },
  {
   "cell_type": "code",
   "execution_count": null,
   "id": "7e8f5a8c-35c3-4312-bff6-5b7e49aea4d4",
   "metadata": {
    "tags": []
   },
   "outputs": [],
   "source": [
    "gdf = gdf[gdf[\"wijkcode\"].str.contains(\"WK\")]   "
   ]
  },
  {
   "cell_type": "code",
   "execution_count": null,
   "id": "21ae699e-42fe-4c70-b352-f4115222ff1e",
   "metadata": {
    "tags": []
   },
   "outputs": [],
   "source": [
    "gdf[\"wijkcode\"].unique"
   ]
  },
  {
   "cell_type": "markdown",
   "id": "808f2df9-7f79-427a-bb1f-d101006df438",
   "metadata": {},
   "source": [
    "We add the geodata to eventually have the final dataset. This dataset still can be filtered but has the aspects we want in our dataset."
   ]
  },
  {
   "cell_type": "code",
   "execution_count": null,
   "id": "f2061596-4fb9-4c51-b008-bbdc7549b8cf",
   "metadata": {
    "tags": []
   },
   "outputs": [],
   "source": [
    "Df_final = pd.merge(gdf, df_combined, how='left', left_on=\"wijkcode\",\n",
    "                right_on=\"Regioaanduiding/Codering (code)\")\n"
   ]
  },
  {
   "cell_type": "code",
   "execution_count": null,
   "id": "19665511-09d1-4de0-adfa-1ac626a0a063",
   "metadata": {
    "tags": []
   },
   "outputs": [],
   "source": [
    "Df_final.isna().sum()"
   ]
  },
  {
   "cell_type": "code",
   "execution_count": null,
   "id": "71cdaab3",
   "metadata": {
    "tags": []
   },
   "outputs": [],
   "source": [
    "#Df_final.head(5)"
   ]
  },
  {
   "cell_type": "markdown",
   "id": "806130ef",
   "metadata": {},
   "source": [
    "Here we are able to download this dataset as 'output.xlsx'"
   ]
  },
  {
   "cell_type": "code",
   "execution_count": null,
   "id": "734e9899-4528-4aea-86e6-0befec1f6f8b",
   "metadata": {
    "tags": []
   },
   "outputs": [],
   "source": [
    "print(Df_final.columns)\n",
    "Df_final.head(1).to_excel('output.xlsx', header=True, index=False, na_rep='null')"
   ]
  },
  {
   "cell_type": "markdown",
   "id": "47d1073c",
   "metadata": {
    "tags": []
   },
   "source": [
    "Now what is important is that not every variable from the huge dataset is needed. In our product we choose 10 variables. The variables are\n",
    "\n",
    "'aantal_huishoudens',\n",
    "\n",
    "'aantal_bedrijfsvestigingen', \n",
    "\n",
    "'ziekenhuis_excl_buitenpolikliniek_gem_afst_in_km',\n",
    "\n",
    "'oprit_hoofdverkeersweg_gemiddelde_afstand_in_km',\n",
    "\n",
    "'grote_supermarkt_gemiddelde_afstand_in_km',\n",
    "\n",
    "'basisonderwijs_gemiddelde_afstand_in_km',\n",
    "\n",
    "'voortgezet_onderwijs_gem_afstand_in_km',\n",
    "\n",
    "'treinstation_gemiddelde_afstand_in_km',\n",
    "\n",
    "'soc',\n",
    "\n",
    "'onv'\n",
    "\n",
    "The explanation of the first 8 variables can be found at the CBS website.\n",
    "The explanation of 'soc' and 'onv' can be found here: https://leefbaarometer.nl/page/dimensies "
   ]
  },
  {
   "cell_type": "code",
   "execution_count": null,
   "id": "7c749f61-de64-457c-940b-0ccb42399667",
   "metadata": {
    "tags": []
   },
   "outputs": [],
   "source": [
    "Df_Final_filtered = Df_final.loc[:, Df_final.columns.isin([\n",
    "    'wijkcode',\n",
    "    'indelingswijziging_wijken_en_buurten',\n",
    "    'geometry',\n",
    "    'aantal_huishoudens',\n",
    "    'aantal_bedrijfsvestigingen',\n",
    "    'ziekenhuis_excl_buitenpolikliniek_gem_afst_in_km',\n",
    "    'oprit_hoofdverkeersweg_gemiddelde_afstand_in_km',\n",
    "    'grote_supermarkt_gemiddelde_afstand_in_km',\n",
    "    'basisonderwijs_gemiddelde_afstand_in_km',\n",
    "    'voortgezet_onderwijs_gem_afstand_in_km',\n",
    "    'treinstation_gemiddelde_afstand_in_km',\n",
    "    'soc',\n",
    "    'onv'  \n",
    "])]"
   ]
  },
  {
   "cell_type": "markdown",
   "id": "b8173573",
   "metadata": {
    "tags": []
   },
   "source": [
    "Here this code extracts the names of all columns in the dataframe starting from the 66th column except for the geometry columns. This gives all the variables we want as column names."
   ]
  },
  {
   "cell_type": "code",
   "execution_count": null,
   "id": "60bb7603-bbbc-4f3e-89da-ccf7a8d97284",
   "metadata": {
    "tags": []
   },
   "outputs": [],
   "source": [
    "Column_names_1 = [column for column in Df_Final_filtered.iloc[:,2:]]\n",
    "Column_names = [column for column in Column_names_1 if column != \"geometry\"]\n",
    "print(Column_names)"
   ]
  },
  {
   "cell_type": "code",
   "execution_count": null,
   "id": "4b5a7f07",
   "metadata": {
    "tags": []
   },
   "outputs": [],
   "source": [
    "Df_Final_filtered = Df_Final_filtered.copy()"
   ]
  },
  {
   "cell_type": "code",
   "execution_count": null,
   "id": "874722ad",
   "metadata": {
    "tags": []
   },
   "outputs": [],
   "source": [
    "Df_Final_filtered.describe()"
   ]
  },
  {
   "cell_type": "markdown",
   "id": "c936594d",
   "metadata": {
    "tags": []
   },
   "source": [
    "We note that some values are (well below 0). We clean them and this results in values below zero are also excluded"
   ]
  },
  {
   "cell_type": "code",
   "execution_count": null,
   "id": "f784b060",
   "metadata": {
    "tags": []
   },
   "outputs": [],
   "source": [
    "columns_to_clean = [\n",
    "    \"aantal_huishoudens\",\n",
    "    \"aantal_bedrijfsvestigingen\",\n",
    "    \"grote_supermarkt_gemiddelde_afstand_in_km\",\n",
    "    \"basisonderwijs_gemiddelde_afstand_in_km\",\n",
    "    \"ziekenhuis_excl_buitenpolikliniek_gem_afst_in_km\",\n",
    "    \"oprit_hoofdverkeersweg_gemiddelde_afstand_in_km\",\n",
    "    \"voortgezet_onderwijs_gem_afstand_in_km\",\n",
    "    \"treinstation_gemiddelde_afstand_in_km\",\n",
    "    \"onv\",\n",
    "    \"soc\"\n",
    "]"
   ]
  },
  {
   "cell_type": "code",
   "execution_count": null,
   "id": "7e73edff",
   "metadata": {
    "tags": []
   },
   "outputs": [],
   "source": [
    "# Replace invalid values with NaN\n",
    "for col in columns_to_clean:\n",
    "    Df_Final_filtered[col] = Df_Final_filtered[col].where(Df_Final_filtered[col] >-1000, other=-1000)\n",
    "    Df_Final_filtered = Df_Final_filtered[Df_Final_filtered[col] != -1000].to_crs(epsg=3857)\n",
    "Df_Final_filtered.describe()"
   ]
  },
  {
   "cell_type": "code",
   "execution_count": null,
   "id": "594246c7-ecae-4cf8-9c43-7ea16ea133f2",
   "metadata": {
    "tags": []
   },
   "outputs": [],
   "source": [
    "import folium\n",
    "List_of_RefugeeShelters = [\"WK051839\",\"WK051804\",\"WK010603\",\"WK172304\",\"WK075806\",\"WK078401\",\n",
    "                           \"WK085800\",\"WK059915\",\"WK059908\",\"WK063708\",\"WK093504\",\"WK003441\",\"WK198208\"]\n",
    "Df_Final_filtered[\"RefugeeShelter\"] = np.where(Df_Final_filtered[\"wijkcode\"].isin(List_of_RefugeeShelters),1,0)\n"
   ]
  },
  {
   "cell_type": "code",
   "execution_count": null,
   "id": "45082f0d-6bab-4776-b58a-4fc8edbcbea9",
   "metadata": {
    "tags": []
   },
   "outputs": [],
   "source": [
    "# Rename columns\n",
    "Df_Final_filtered = Df_Final_filtered.rename(columns={\n",
    "    'wijkcode':\"Neigbourhoud Code (CBS)\",\n",
    "    \"aantal_huishoudens\":'Number of households',\n",
    "    \"aantal_bedrijfsvestigingen\": 'Number of business establishments',\n",
    "    \"grote_supermarkt_gemiddelde_afstand_in_km\": 'Accessibility for Large Supermarket (km)',\n",
    "    \"basisonderwijs_gemiddelde_afstand_in_km\": 'Accessibility for Primary Education (km)',\n",
    "    \"ziekenhuis_excl_buitenpolikliniek_gem_afst_in_km\": 'Accessibility to Hospitals (Excl. Outpatient Clinic) (km)',\n",
    "    \"oprit_hoofdverkeersweg_gemiddelde_afstand_in_km\": 'Accessibility to main road (km)',\n",
    "    \"voortgezet_onderwijs_gem_afstand_in_km\": 'Accessibility for Secondary Education (km)',\n",
    "    \"treinstation_gemiddelde_afstand_in_km\": 'Train Station Accessibility (km)',\n",
    "    \"onv\": 'Leefbaroscore Disturbance and lack of safety',\n",
    "    \"soc\": \"Leefbaroscore Social Cohesion\"})"
   ]
  },
  {
   "cell_type": "code",
   "execution_count": null,
   "id": "4cfaf0b4-e673-41cf-8cae-9e7afe95ec8b",
   "metadata": {
    "tags": []
   },
   "outputs": [],
   "source": [
    "\n",
    "variable_settings = {\n",
    "    'Accessibility for Large Supermarket (km)':{ \n",
    "        'thresholds': { '≤ 2.0 km': 2.0,'2.0 - 3.25 km': 3.25},\n",
    "        'colors': {'≤ 2.0 km': 'green','2.0 - 3.25 km': 'yellow','> 3.25 km': 'lightcoral' },\n",
    "        'title': 'Accessibility for Large Supermarket (km)'},\n",
    "    \n",
    "    'Accessibility for Primary Education (km)':{ \n",
    "        'thresholds': {'≤ 1.25 km': 1.25,'1.25 - 2.5 km': 2.5},\n",
    "        'colors': {'≤ 1.25 km': 'green','1.25 - 2.5 km': 'yellow','> 2.5 km': 'lightcoral'},\n",
    "        'title': 'Accessibility for Primary Education (km)'},\n",
    "    \n",
    "      'Accessibility to main road (km)':{ \n",
    "        'thresholds': {'≤ 2 km': 2,'2 - 5 km': 5},\n",
    "        'colors': {'≤ 2 km': 'green','2 - 5 km': 'yellow','> 5 km': 'lightcoral'},\n",
    "        'title': 'Accessibility to main road (km)'},\n",
    "    \n",
    "    'Accessibility for Secondary Education (km)':{ \n",
    "         'thresholds': {'≤ 7.5 km': 7.5,'7.5 - 15 km': 15.0},\n",
    "        'colors': { '≤ 7.5 km': 'green','7.5 - 15 km': 'yellow','> 15 km': 'lightcoral'},\n",
    "        'title': 'Accessibility for Secondary Education (km)'},\n",
    "    \n",
    "    'Train Station Accessibility (km)' :{ \n",
    "        'thresholds': {'≤ 7.5 km':7.5, '7.5 - 15 km': 15},\n",
    "        'colors': { '≤ 7.5 km': 'green','7.5 - 15 km': 'yellow','> 15 km': 'lightcoral'},\n",
    "        'title': 'Train Station Accessibility (km)'},\n",
    "    \n",
    "    'Accessibility to Hospitals (Excl. Outpatient Clinic) (km)' :{ \n",
    "        'thresholds': {'≤ 5 km':5, '5 - 15 km': 15},\n",
    "        'colors': { '≤ 5 km': 'green','5 - 15 km': 'yellow','> 15 km': 'lightcoral'},\n",
    "        'title': 'Accessibility to Hospitals (Excl. Outpatient Clinic) (km)'}\n",
    "    \n",
    "}\n",
    " \n",
    "\n",
    "# Function to classify values into categories based on thresholds\n",
    "def classify_value(value, thresholds):\n",
    "    if np.isnan(value):  # Handle missing values\n",
    "        return 'Missing'\n",
    "    threshold_values = list(thresholds.values())\n",
    "    threshold_keys = list(thresholds.keys())\n",
    "    if value <= threshold_values[0]:\n",
    "        return threshold_keys[0]  # First category, e.g., \"≤ 2.0 km\"\n",
    "    elif value <= threshold_values[1]:\n",
    "        return threshold_keys[1]  # Second category, e.g., \"2.0 - 3.25 km\"\n",
    "    else:\n",
    "        return f'>{threshold_keys[1].split(\"-\")[-1]}'.strip()  # Third category, e.g., \"> 3.25 km\"\n",
    "\n",
    "# Iterate over each variable and generate individual maps\n",
    "for column, settings in variable_settings.items():\n",
    "    thresholds = settings['thresholds']\n",
    "    colors = settings['colors']\n",
    "    map_title = settings['title']\n",
    "    \n",
    "    # Create a new column for the category\n",
    "    Df_Final_filtered[f'{column}_category'] = Df_Final_filtered[column].apply(classify_value, args=(thresholds,))\n",
    "  \n",
    "    \n",
    "    # Map categories to colors\n",
    "    Df_Final_filtered['color'] = Df_Final_filtered[f'{column}_category'].map(colors)\n",
    "    \n",
    "    \n",
    "    # Plot the map\n",
    "    fig, ax = plt.subplots(1, 1, figsize=(10, 10))\n",
    "    Df_Final_filtered.plot(\n",
    "        ax=ax,\n",
    "        color=Df_Final_filtered['color'],\n",
    "        edgecolor='black',\n",
    "        linewidth=0.2\n",
    "    )\n",
    "    \n",
    "    # Add title and legend\n",
    "    ax.set_title(map_title, fontsize=14)\n",
    "    legend_elements = [\n",
    "        plt.Line2D([0], [0], marker='o', color='w', label=cat, markerfacecolor=color, markersize=10)\n",
    "        for cat, color in colors.items()\n",
    "    ]\n",
    "    ax.legend(handles=legend_elements, loc='lower left', title=\"Categories\")\n",
    "    # Show the map\n",
    "    plt.tight_layout()\n",
    "    plt.plot()"
   ]
  },
  {
   "cell_type": "code",
   "execution_count": null,
   "id": "370d03fb",
   "metadata": {
    "tags": []
   },
   "outputs": [],
   "source": [
    "# Define the column to plot\n",
    "column_to_plot = 'Number of households'\n",
    "\n",
    "# Define the colors for the quantiles\n",
    "colors = ['green', 'yellow', 'lightcoral']  # Low = green, Mid = yellow, High = red\n",
    "cmap = mcolors.ListedColormap(colors)\n",
    "\n",
    "# Create the plot\n",
    "fig, ax = plt.subplots(1, 1, figsize=(8, 8))\n",
    "Df_Final_filtered.plot(\n",
    "    column=column_to_plot,\n",
    "    legend=True,\n",
    "    scheme=\"quantiles\",  # Quantiles scheme\n",
    "    cmap = mcolors.ListedColormap(colors),  # Custom color map\n",
    "    k=3,  # Number of quantiles\n",
    "    ax=ax,\n",
    "    edgecolor=\"black\",\n",
    "    linewidth=0.2\n",
    ")\n",
    "\n",
    "# Add title and adjust layout\n",
    "ax.set_title('Number of households', fontsize=14)\n",
    "plt.tight_layout()\n",
    "plt.show()\n"
   ]
  },
  {
   "cell_type": "code",
   "execution_count": null,
   "id": "c6fd6d3f",
   "metadata": {
    "tags": []
   },
   "outputs": [],
   "source": [
    "\n",
    "# Define the column to plot\n",
    "column_to_plot = 'Number of business establishments'\n",
    "\n",
    "# Define the colors for the quantiles\n",
    "colors = ['lightcoral', 'yellow', 'green']  # Low = red, Mid = yellow, High = green\n",
    "cmap = mcolors.ListedColormap(colors)\n",
    "\n",
    "# Create the plot\n",
    "fig, ax = plt.subplots(1, 1, figsize=(8, 8))\n",
    "Df_Final_filtered.plot(\n",
    "    column=column_to_plot,\n",
    "    legend=True,\n",
    "    scheme=\"quantiles\",  # Quantiles scheme\n",
    "    cmap=mcolors.ListedColormap(colors),  # Custom color map\n",
    "    k=3,  # Number of quantiles\n",
    "    ax=ax,\n",
    "    edgecolor=\"black\",\n",
    "    linewidth=0.2\n",
    ")\n",
    "\n",
    "# Add title and adjust layout\n",
    "ax.set_title('Number of business establishments', fontsize=14)\n",
    "plt.tight_layout()\n",
    "plt.show()\n"
   ]
  },
  {
   "cell_type": "code",
   "execution_count": null,
   "id": "49086919",
   "metadata": {
    "tags": []
   },
   "outputs": [],
   "source": [
    "# Define the column to plot\n",
    "column_to_plot = 'Leefbaroscore Disturbance and lack of safety'\n",
    "\n",
    "# Define colors for quantiles\n",
    "colors = ['lightcoral', 'yellow', 'green']  # Low = red, Mid = yellow, High = green\n",
    "cmap = mcolors.ListedColormap(colors)\n",
    "\n",
    "# Calculate quantiles\n",
    "quantiles = Df_Final_filtered[column_to_plot].quantile([0, 0.33, 0.66, 1]).values\n",
    "\n",
    "# Create a new column to classify values based on quantiles\n",
    "def classify_quantiles(value):\n",
    "    if value <= quantiles[1]:  # First quantile range\n",
    "        return 'Low'\n",
    "    elif value <= quantiles[2]:  # Second quantile range\n",
    "        return 'Medium'\n",
    "    else:  # Third quantile range\n",
    "        return 'High'\n",
    "\n",
    "Df_Final_filtered['Leefbaroscore Disturbance and lack of safety_category'] = Df_Final_filtered[column_to_plot].apply(classify_quantiles)\n",
    "\n",
    "# Map the categories to colors\n",
    "Df_Final_filtered['color'] = Df_Final_filtered['Leefbaroscore Disturbance and lack of safety_category'].map({\n",
    "    'Low': 'lightcoral',\n",
    "    'Medium': 'yellow',\n",
    "    'High': 'green'\n",
    "})\n",
    "\n",
    "# Plot the map\n",
    "fig, ax = plt.subplots(1, 1, figsize=(8, 8))\n",
    "Df_Final_filtered.plot(\n",
    "    color=Df_Final_filtered['color'],\n",
    "    edgecolor='black',\n",
    "    ax=ax,\n",
    "    linewidth=0.2,\n",
    "    missing_kwds={\"color\": \"lightgrey\", \"label\": \"No Data\"}\n",
    ")\n",
    "\n",
    "# Add title and legend\n",
    "ax.set_title( 'Leefbaroscore Disturbance and lack of safety', fontsize=14)\n",
    "legend_elements = [\n",
    "    plt.Line2D([0], [0], marker='o', color='w', label=f'≤ {quantiles[1]:.2f}', markerfacecolor='lightcoral', markersize=10),\n",
    "    plt.Line2D([0], [0], marker='o', color='w', label=f'{quantiles[1]:.2f} - {quantiles[2]:.2f}', markerfacecolor='yellow', markersize=10),\n",
    "    plt.Line2D([0], [0], marker='o', color='w', label=f'> {quantiles[2]:.2f}', markerfacecolor='green', markersize=10)\n",
    "]\n",
    "ax.legend(handles=legend_elements, loc='lower left')\n",
    "\n",
    "# Adjust layout and show\n",
    "plt.tight_layout()\n",
    "plt.show()\n"
   ]
  },
  {
   "cell_type": "code",
   "execution_count": null,
   "id": "82faba47",
   "metadata": {
    "tags": []
   },
   "outputs": [],
   "source": [
    "# Define the column to plot\n",
    "column_to_plot = 'Leefbaroscore Social Cohesion'\n",
    "\n",
    "# Define colors for quantiles\n",
    "colors = ['lightcoral', 'yellow', 'green']  # Low = red, Mid = yellow, High = green\n",
    "cmap = mcolors.ListedColormap(colors)\n",
    "\n",
    "# Calculate quantiles\n",
    "quantiles = Df_Final_filtered[column_to_plot].quantile([0, 0.33, 0.66, 1]).values\n",
    "\n",
    "# Create a new column to classify values based on quantiles\n",
    "def classify_quantiles(value):\n",
    "    if value <= quantiles[1]:  # First quantile range\n",
    "        return 'Low'\n",
    "    elif value <= quantiles[2]:  # Second quantile range\n",
    "        return 'Medium'\n",
    "    else:  # Third quantile range\n",
    "        return 'High'\n",
    "\n",
    "Df_Final_filtered['Leefbaroscore Social Cohesion_category'] = Df_Final_filtered[column_to_plot].apply(classify_quantiles)\n",
    "\n",
    "\n",
    "# Plot the map\n",
    "fig, ax = plt.subplots(1, 1, figsize=(8, 8))\n",
    "Df_Final_filtered.plot(\n",
    "    color=Df_Final_filtered['color'],\n",
    "    edgecolor='black',\n",
    "    ax=ax,\n",
    "    cmap=mcolors.ListedColormap(colors),\n",
    "    linewidth=0.2,\n",
    "    missing_kwds={\"color\": \"blue\", \"label\": \"No Data\"}\n",
    ")\n",
    "\n",
    "# Add title and legend\n",
    "ax.set_title( 'Leefbaroscore Social Cohesion', fontsize=14)\n",
    "legend_elements = [\n",
    "    plt.Line2D([0], [0], marker='o', color='w', label=f'≤ {quantiles[1]:.2f}', markerfacecolor='lightcoral', markersize=10),\n",
    "    plt.Line2D([0], [0], marker='o', color='w', label=f'{quantiles[1]:.2f} - {quantiles[2]:.2f}', markerfacecolor='yellow', markersize=10),\n",
    "    plt.Line2D([0], [0], marker='o', color='w', label=f'> {quantiles[2]:.2f}', markerfacecolor='green', markersize=10)\n",
    "]\n",
    "ax.legend(handles=legend_elements, loc='lower left')\n",
    "\n",
    "# Adjust layout and show\n",
    "plt.tight_layout()\n",
    "plt.show(block=True)\n"
   ]
  },
  {
   "cell_type": "markdown",
   "id": "11f9c0a2",
   "metadata": {},
   "source": [
    "After showing all the variables on the map seperately. We not use the explore function to give every factor we included into a list when you click on a specific area."
   ]
  },
  {
   "cell_type": "code",
   "execution_count": null,
   "id": "07928707-c65f-425c-9b01-ae4f08e06a29",
   "metadata": {
    "tags": []
   },
   "outputs": [],
   "source": [
    "Df_Final_filtered = Df_Final_filtered.loc[:, Df_Final_filtered.columns.isin([\n",
    "                                    \"Neigbourhoud Code (CBS)\",\n",
    "                                    'Number of households',\n",
    "                                    'Number of business establishments',\n",
    "                                   'Accessibility for Large Supermarket (km)',\n",
    "                                   'Accessibility for Primary Education (km)',\n",
    "                                   'Accessibility to Hospitals (Excl. Outpatient Clinic) (km)',\n",
    "                                   'Accessibility to main road (km)',\n",
    "                                   'Accessibility for Secondary Education (km)',\n",
    "                                   'Train Station Accessibility (km)',\n",
    "                                   'Leefbaroscore Disturbance and lack of safety',\n",
    "                                   \"Leefbaroscore Social Cohesion\",\n",
    "                                    'RefugeeShelter',\n",
    "                                    'geometry'])]\n",
    "Df_Final_filtered.head(10)\n",
    "Df_Final_filtered.to_crs(epsg=3857)"
   ]
  },
  {
   "cell_type": "code",
   "execution_count": null,
   "id": "bbf63001-1c9b-47fc-8ffc-1c2441803ca3",
   "metadata": {},
   "outputs": [],
   "source": [
    "colors = ['lightcoral', 'yellow', 'green']  # Low = red, Mid = yellow, High = green\n",
    "cmap = mcolors.ListedColormap(colors)\n",
    "\n",
    "\n",
    "#Df_Final_filtered.explore(column=\"Number of business establishments\",cmap= \"RdYlGn_r\",scheme=\"quantiles\")\n",
    "#Df_Final_filtered.explore(column=\"Number of households',cmap= \"RdYlGn_r\",scheme=\"quantiles\")\n",
    "#Df_Final_filtered.explore(column=\"Accessibility for Large Supermarket (km)\",cmap= \"RdYlGn_r\",scheme=\"quantiles\")\n",
    "#Df_Final_filtered.explore(column=\"Accessibility for Primary Education (km)\",cmap= \"RdYlGn_r\",scheme=\"quantiles\")\n",
    "#Df_Final_filtered.explore(column=\"Accessibility to Hospitals (Excl. Outpatient Clinic) (km)\",cmap= \"RdYlGn_r\",scheme=\"quantiles\")\n",
    "#Df_Final_filtered.explore(column=\"Accessibility to main road (km)\",cmap= \"RdYlGn_r\",scheme=\"quantiles\")\n",
    "#Df_Final_filtered.explore(column=\"Accessibility for Secondary Education (km)\",cmap= \"RdYlGn_r\",scheme=\"quantiles\")\n",
    "#Df_Final_filtered.explore(column=\"Train Station Accessibility (km)\",cmap= \"RdYlGn_r\",scheme=\"quantiles\")\n",
    "#Df_Final_filtered.explore(column=\"Leefbaroscore Disturbance and lack of safety'\",cmap= \"RdYlGn_r\",scheme=\"quantiles\")\n",
    "#Df_Final_filtered.explore(column=\"Leefbaroscore Social Cohesion\",cmap= \"RdYlGn_r\",scheme=\"quantiles\")"
   ]
  },
  {
   "cell_type": "markdown",
   "id": "c5645b97-04b1-42c0-b258-c86cf113d10d",
   "metadata": {},
   "source": [
    "titles     co\n",
    "'Leefbaroscore Social Cohesion' "
   ]
  },
  {
   "cell_type": "code",
   "execution_count": null,
   "id": "5509e8ad-195b-405b-83d9-d8a5fb28d459",
   "metadata": {},
   "outputs": [],
   "source": []
  }
 ],
 "metadata": {
  "kernelspec": {
   "display_name": "Python 3 (ipykernel)",
   "language": "python",
   "name": "python3"
  },
  "language_info": {
   "codemirror_mode": {
    "name": "ipython",
    "version": 3
   },
   "file_extension": ".py",
   "mimetype": "text/x-python",
   "name": "python",
   "nbconvert_exporter": "python",
   "pygments_lexer": "ipython3",
   "version": "3.11.4"
  },
  "widgets": {
   "application/vnd.jupyter.widget-state+json": {
    "state": {},
    "version_major": 2,
    "version_minor": 0
   }
  }
 },
 "nbformat": 4,
 "nbformat_minor": 5
}
